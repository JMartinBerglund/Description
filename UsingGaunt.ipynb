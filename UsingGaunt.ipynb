{
 "cells": [
  {
   "cell_type": "markdown",
   "id": "5b91356c",
   "metadata": {},
   "source": [
    "# Using the Gaunt function"
   ]
  },
  {
   "cell_type": "markdown",
   "id": "5215c69c",
   "metadata": {},
   "source": [
    "The Gaunt function is available in Python' s sympy package\n",
    "\n",
    "sympy.physics.wigner.gaunt\n",
    "\n",
    "The Gaunt function is the integral of a product of three spherical harmonics\n",
    "\n",
    "\\begin{equation}\\label{eq:Gaunt}\n",
    "G_3(j1, j2, j3, m1, m2, m3) = \\int\\limits_0^{2\\pi}\\int\\limits_0^\\pi Y_{j1}^{m1}Y_{j2}^{m2}Y_{j3}^{m3}\\sin{\\theta}d\\theta d\\phi\n",
    "\\end{equation}\n",
    "\n",
    "Notice that the matrix elements of the relevant operators for us (e.g. $\\cos{\\theta}$, $\\cos^2{\\theta}$, $\\sin{\\theta}e^{\\pm im\\phi}$) are of the form of linear combinations of integrals of the type\n",
    "\n",
    "\\begin{equation}\n",
    "\\left<Y_{j1}^{m1}|Y_{j2}^{m2}|Y_{j3}^{m3}\\right> = \\int\\limits_0^{2\\pi}\\int\\limits_0^\\pi \\left(Y_{j1}^{m1}\\right)^* Y_{j2}^{m2}Y_{j3}^{m3}\\sin{\\theta}d\\theta d\\phi\n",
    "\\end{equation}\n",
    "\n",
    "DISCUSS SELECTION RULES...\n",
    "\n",
    "As an example\n",
    "\n",
    "$\\left<Y_{j1}^{m}|Y_{2}^{0}|Y_{j3}^{m}\\right> = \\int\\limits_0^{2\\pi}\\int\\limits_0^\\pi \\left(Y_{j1}^{m}\\right)^* Y_{2}^{0}Y_{j3=j1, j1\\pm 2}^{m}\\sin{\\theta}d\\theta d\\phi$\n",
    "\n",
    "Comparing the expressions for Gaunt and the integral for the matrix elements, we see that they are equal but for the complex conjugate in the latter. The complex conjugation can be achieved in that we use the argument $-m1$ instead of $m1$ in the call to the Gaunt function. This is not enough to have a correct description however. This is due to the fact that in the definition of the spherical harmonics, there is a minus sign assigned to the spherical harmonics with odd, positive values of $m$. That is, we need to compensate for the sign changes that might arise when switching sign of $m$. \n",
    "\n",
    "In order to correcly handle the sign we include the factor\n",
    "\n",
    "\\begin{equation}\n",
    "(-1)^{m + \\frac{m}{2}\\left(1 -sign(m)\\right)}\n",
    "\\end{equation}\n",
    "\n",
    "If $m$ is odd, $sign(m) = -1$, and we get $(-1)^{2m} = 1$, and if $m$ is even, $sign(m) = 1$ and we get $(-1)^{m}$ which is $-1$ if $m$ is odd and $1$ if $m$ is even, as it should be.\n",
    "\n",
    "We can therefore express the matrix element in terms of the Gaunt function as \n",
    "\n",
    "\\begin{equation}\n",
    "\\left<Y_{j1}^{m1}|Y_{j2}^{m2}|Y_{j3}^{m3}\\right> = (-1)^{m1 + \\frac{m1}{2}\\left(1 -sign(m1)\\right)}G_3(j1, j2, j3, -m1, m2, m3) \n",
    "\\end{equation}\n",
    "\n",
    "if $m1 \\ge 0$ and as \n",
    "\n",
    "\\begin{equation}\n",
    "\\left<Y_{j1}^{m1}|Y_{j2}^{m2}|Y_{j3}^{m3}\\right> = (-1)^{-m1 + \\frac{-m1}{2}\\left(1 -sign(-m1)\\right)}G_3(j1, j2, j3, -m1, m2, m3) \n",
    "\\end{equation}\n",
    "\n",
    "if $m1 < 0$."
   ]
  },
  {
   "cell_type": "markdown",
   "id": "232faa70",
   "metadata": {},
   "source": [
    "Let's consider some examples"
   ]
  },
  {
   "cell_type": "code",
   "execution_count": 3,
   "id": "c5dd4666",
   "metadata": {},
   "outputs": [],
   "source": [
    "import os \n",
    "import sys\n",
    "sys.path.append(\"/home/martin/Work/Qutip/modules\")\n",
    "import math\n",
    "from sympy.physics.wigner import gaunt\n",
    "import Utility as Ut"
   ]
  },
  {
   "cell_type": "markdown",
   "id": "72741130",
   "metadata": {},
   "source": [
    "The operator $\\cos{\\theta} = 2\\sqrt{\\frac{\\pi}{3}}Y_1^0$ and therefore the matrix element\n",
    "\n",
    "\\begin{equation}\n",
    "\\left<Y_{2}^{1}|\\cos{\\theta}|Y_{1}^{1}\\right> = 2\\sqrt{\\frac{\\pi}{3}}\\left<Y_{2}^{1}|Y_1^{-1}|Y_{1}^{1}\\right>\n",
    "= 2\\sqrt{\\frac{\\pi}{3}} (-1)^{-1 + \\frac{-1}{2}\\left(1 - sign(-1)\\right)}G_3(2,1,1,-1,0,1) = - 2\\sqrt{\\frac{\\pi}{3}}G_3(2,1,1,-1,0,1)\n",
    "\\end{equation}\n",
    "\n",
    "One can calculate the matrix element by hand and obtains $\\left<Y_{2}^{1}|\\cos{\\theta}|Y_{1}^{1}\\right> = \\frac{1}{\\sqrt{5}} \\approx 0,447213595$. Let's now calculate it using the Gaunt function."
   ]
  },
  {
   "cell_type": "code",
   "execution_count": 6,
   "id": "cb38d6d8",
   "metadata": {},
   "outputs": [
    {
     "name": "stdout",
     "output_type": "stream",
     "text": [
      "0.4472135954999579\n"
     ]
    }
   ],
   "source": [
    "print(-2.*math.sqrt(math.pi/3.) * float(gaunt(2,1,1,-1,0,1)))"
   ]
  },
  {
   "cell_type": "code",
   "execution_count": null,
   "id": "ef256a70",
   "metadata": {},
   "outputs": [],
   "source": []
  }
 ],
 "metadata": {
  "kernelspec": {
   "display_name": "Python 3 (ipykernel)",
   "language": "python",
   "name": "python3"
  },
  "language_info": {
   "codemirror_mode": {
    "name": "ipython",
    "version": 3
   },
   "file_extension": ".py",
   "mimetype": "text/x-python",
   "name": "python",
   "nbconvert_exporter": "python",
   "pygments_lexer": "ipython3",
   "version": "3.10.12"
  }
 },
 "nbformat": 4,
 "nbformat_minor": 5
}
