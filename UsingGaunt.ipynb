{
 "cells": [
  {
   "cell_type": "markdown",
   "id": "ea9bee85",
   "metadata": {},
   "source": [
    "# Using the Gaunt function"
   ]
  },
  {
   "cell_type": "markdown",
   "id": "78f61d1a",
   "metadata": {},
   "source": [
    "The Gaunt function is available in Python' s sympy package\n",
    "\n",
    "sympy.wigner.gaunt\n",
    "\n",
    "The Gaunt function is the integral of a product of three spherical harmonics\n",
    "\n",
    "\\begin{equation}\\label{eq:Gaunt}\n",
    "G_3(j1, j2, j3, m1, m2, m3) = \\int\\limits_0^{2\\pi}\\int\\limits_0^\\pi Y_{j1}^{m1}Y_{j2}^{m2}Y_{j3}^{m3}\\sin{\\theta}d\\theta d\\phi\n",
    "\\end{equation}\n",
    "\n",
    "Notice that the matrix elements of the relevant operators for us (e.g. $\\cos{\\theta}$, $\\cos^2{\\theta}$, $\\sin{\\theta}e^{\\pm im\\phi}$) are of the form of linear combinations of integrals of the type\n",
    "\n",
    "\\begin{equation}\n",
    "\\left<Y_{j1}^{m1}|Y_{j2}^{m2}|Y_{j3}^{m3}\\right> = \\int\\limits_0^{2\\pi}\\int\\limits_0^\\pi \\left(Y_{j1}^{m1}\\right)^* Y_{j2}^{m2}Y_{j3}^{m3}\\sin{\\theta}d\\theta d\\phi\n",
    "\\end{equation}\n",
    "\n",
    "As an example\n",
    "\n",
    "$\\left<Y_{j1}^{m}|Y_{2}^{0}|Y_{j3}^{m}\\right> = \\int\\limits_0^{2\\pi}\\int\\limits_0^\\pi \\left(Y_{j1}^{m}\\right)^* Y_{2}^{0}Y_{j3=j1, j1\\pm 2}^{m}\\sin{\\theta}d\\theta d\\phi$\n",
    "\n",
    "Comparing the expressions for Gaunt and the integral for the matrix elements, we see that they are equal but for the complex conjugate in the latter. The complex conjugation can be achieved in that we use the argument $-m1$ instead of $m1$ in the call to the Gaunt function. This is not enough to have a correct description however. This is due to the fact that in the definition of the spherical harmonics, there is a minus sign assigned to the spherical harmonics with odd, positive values of $m$. That is, we need to compensate for the sign changes that might arise when switching sign of $m$. \n",
    "\n",
    "In order to correcly handle the sign we include the factor\n",
    "\n",
    "\\begin{equation}\n",
    "(-1)^{m + \\frac{m}{2}\\left(1 -sign(m)\\right)}\n",
    "\\end{equation}\n",
    "\n",
    "If $m$ is odd, $sign(m) = -1$, and we get $(-1)^{2m} = 1$, and if $m$ is even, $sign(m) = 1$ and we get $(-1)^{m}$ which is $-1$ if $m$ is odd and $1$ if $m$ is even, as it should be."
   ]
  },
  {
   "cell_type": "code",
   "execution_count": 1,
   "id": "87de19ff",
   "metadata": {},
   "outputs": [],
   "source": [
    "import os \n",
    "import sys\n",
    "sys.path.append(\"/home/martin/Work/Qutip/modules\")\n",
    "import math\n",
    "from sympy.wigner import gaunt\n",
    "import Utility as Ut"
   ]
  }
 ],
 "metadata": {
  "kernelspec": {
   "display_name": "Python 3 (ipykernel)",
   "language": "python",
   "name": "python3"
  },
  "language_info": {
   "codemirror_mode": {
    "name": "ipython",
    "version": 3
   },
   "file_extension": ".py",
   "mimetype": "text/x-python",
   "name": "python",
   "nbconvert_exporter": "python",
   "pygments_lexer": "ipython3",
   "version": "3.10.12"
  }
 },
 "nbformat": 4,
 "nbformat_minor": 5
}
